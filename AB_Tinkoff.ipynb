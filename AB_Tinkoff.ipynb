{
 "cells": [
  {
   "cell_type": "code",
   "execution_count": 1,
   "metadata": {},
   "outputs": [
    {
     "name": "stdout",
     "output_type": "stream",
     "text": [
      "Populating the interactive namespace from numpy and matplotlib\n"
     ]
    },
    {
     "name": "stderr",
     "output_type": "stream",
     "text": [
      "/Users/BDAlex/opt/anaconda3/lib/python3.8/site-packages/IPython/core/magics/pylab.py:159: UserWarning: pylab import has clobbered these variables: ['norm']\n",
      "`%matplotlib` prevents importing * from pylab and numpy\n",
      "  warn(\"pylab import has clobbered these variables: %s\"  % clobbered +\n"
     ]
    }
   ],
   "source": [
    "import pandas as pd\n",
    "import numpy as np\n",
    "import scipy.stats as st\n",
    "import statsmodels.stats as sm\n",
    "import matplotlib.pyplot as plt\n",
    "import statsmodels.stats.power as smp\n",
    "\n",
    "from scipy.stats import norm, kstest, wilcoxon\n",
    "from statsmodels.stats import weightstats as stests\n",
    "from statsmodels.stats.proportion import proportions_ztest\n",
    "\n",
    "%pylab inline"
   ]
  },
  {
   "cell_type": "markdown",
   "metadata": {},
   "source": [
    "## Тест 1\n",
    "В файле test_1 лежит результат теста. target - какая-то целевая метрика. Изучите результаты теста и сделайте вывод (проверяем гипотезу о равенстве средних). В качестве решения - ноутбук, в котором построено распределение параметра target в группах и проверены нужные критерии."
   ]
  },
  {
   "cell_type": "code",
   "execution_count": 2,
   "metadata": {},
   "outputs": [
    {
     "data": {
      "text/html": [
       "<div>\n",
       "<style scoped>\n",
       "    .dataframe tbody tr th:only-of-type {\n",
       "        vertical-align: middle;\n",
       "    }\n",
       "\n",
       "    .dataframe tbody tr th {\n",
       "        vertical-align: top;\n",
       "    }\n",
       "\n",
       "    .dataframe thead th {\n",
       "        text-align: right;\n",
       "    }\n",
       "</style>\n",
       "<table border=\"1\" class=\"dataframe\">\n",
       "  <thead>\n",
       "    <tr style=\"text-align: right;\">\n",
       "      <th></th>\n",
       "      <th>group</th>\n",
       "      <th>client_id</th>\n",
       "      <th>target</th>\n",
       "    </tr>\n",
       "  </thead>\n",
       "  <tbody>\n",
       "    <tr>\n",
       "      <th>0</th>\n",
       "      <td>test</td>\n",
       "      <td>1</td>\n",
       "      <td>48.294046</td>\n",
       "    </tr>\n",
       "    <tr>\n",
       "      <th>1</th>\n",
       "      <td>test</td>\n",
       "      <td>2</td>\n",
       "      <td>50.561098</td>\n",
       "    </tr>\n",
       "    <tr>\n",
       "      <th>2</th>\n",
       "      <td>test</td>\n",
       "      <td>3</td>\n",
       "      <td>50.987911</td>\n",
       "    </tr>\n",
       "    <tr>\n",
       "      <th>3</th>\n",
       "      <td>test</td>\n",
       "      <td>4</td>\n",
       "      <td>47.819840</td>\n",
       "    </tr>\n",
       "    <tr>\n",
       "      <th>4</th>\n",
       "      <td>test</td>\n",
       "      <td>5</td>\n",
       "      <td>50.153417</td>\n",
       "    </tr>\n",
       "  </tbody>\n",
       "</table>\n",
       "</div>"
      ],
      "text/plain": [
       "  group  client_id     target\n",
       "0  test          1  48.294046\n",
       "1  test          2  50.561098\n",
       "2  test          3  50.987911\n",
       "3  test          4  47.819840\n",
       "4  test          5  50.153417"
      ]
     },
     "execution_count": 2,
     "metadata": {},
     "output_type": "execute_result"
    }
   ],
   "source": [
    "test_1 = pd.read_csv('test_1.csv')\n",
    "test_1.head()"
   ]
  },
  {
   "cell_type": "code",
   "execution_count": 3,
   "metadata": {},
   "outputs": [
    {
     "data": {
      "image/png": "[encoded data removed]",
      "text/plain": [
       "<Figure size 432x288 with 1 Axes>"
      ]
     },
     "metadata": {
      "needs_background": "light"
     },
     "output_type": "display_data"
    },
    {
     "name": "stdout",
     "output_type": "stream",
     "text": [
      "control len: 988 \n",
      "test len: 1010\n"
     ]
    }
   ],
   "source": [
    "# Посмотрим на распределение целевой метрики в двух группах\n",
    "test = test_1[test_1['group'] == 'test']['target']\n",
    "control = test_1[test_1['group'] == 'control']['target']\n",
    "\n",
    "plt.hist(test, bins=30, density=True, color='blue', alpha=0.7)\n",
    "plt.hist(control, bins=30, density=True, color='red', alpha=0.7)\n",
    "plt.legend([\"test\", \"control\"])\n",
    "plt.show()\n",
    "\n",
    "# Посчитаем на размеры выборок\n",
    "print('control len:', len(control), '\\ntest len:', len(test))"
   ]
  },
  {
   "cell_type": "code",
   "execution_count": 4,
   "metadata": {},
   "outputs": [
    {
     "name": "stdout",
     "output_type": "stream",
     "text": [
      "KstestResult(statistic=1.0, pvalue=0.0)\n",
      "KstestResult(statistic=1.0, pvalue=0.0)\n"
     ]
    }
   ],
   "source": [
    "# Проверим распределения на нормальность с помощью критерия Колмогорова-Смирнова\n",
    "print(kstest(test, \"norm\"))\n",
    "print(kstest(control, \"norm\"))"
   ]
  },
  {
   "cell_type": "code",
   "execution_count": 5,
   "metadata": {},
   "outputs": [
    {
     "data": {
      "image/png": "[encoded data removed]",
      "text/plain": [
       "<Figure size 432x288 with 1 Axes>"
      ]
     },
     "metadata": {
      "needs_background": "light"
     },
     "output_type": "display_data"
    }
   ],
   "source": [
    "# Проверим распределения на нормальность с помощью QQ-plot\n",
    "res = st.probplot(control, dist=\"norm\", plot=pylab)\n",
    "plt.show()"
   ]
  },
  {
   "cell_type": "code",
   "execution_count": 6,
   "metadata": {},
   "outputs": [
    {
     "data": {
      "image/png": "[encoded data removed]",
      "text/plain": [
       "<Figure size 432x288 with 1 Axes>"
      ]
     },
     "metadata": {
      "needs_background": "light"
     },
     "output_type": "display_data"
    }
   ],
   "source": [
    "res = st.probplot(test, dist=\"norm\", plot=pylab)\n",
    "plt.show()"
   ]
  },
  {
   "cell_type": "code",
   "execution_count": 7,
   "metadata": {},
   "outputs": [
    {
     "name": "stdout",
     "output_type": "stream",
     "text": [
      "control mean: 51.06737874869835 \n",
      "test mean: 49.958943954077576\n"
     ]
    }
   ],
   "source": [
    "# Посчитаем средние\n",
    "mu_t = test.mean()\n",
    "mu_c = control.mean()\n",
    "print('control mean:', mu_c, '\\ntest mean:', mu_t)"
   ]
  },
  {
   "cell_type": "code",
   "execution_count": 8,
   "metadata": {},
   "outputs": [
    {
     "data": {
      "text/plain": [
       "Ttest_indResult(statistic=-9.879422047254666, pvalue=1.6631546220432403e-22)"
      ]
     },
     "execution_count": 8,
     "metadata": {},
     "output_type": "execute_result"
    }
   ],
   "source": [
    "# Проверим гипотезу о равенстве средних с помощью t-критерия, т.к. нам неизвестны дисперсии\n",
    "st.ttest_ind(test, control, equal_var = False)"
   ]
  },
  {
   "cell_type": "markdown",
   "metadata": {},
   "source": [
    "**Вывод:** отвергаем нулевую гипотезу о равенстве средних на уровне значимости 5% (p-value << 0.05)."
   ]
  },
  {
   "cell_type": "markdown",
   "metadata": {},
   "source": [
    "## Тест 2\n",
    "В файле test_2 лежит результат теста, который был нацелен на увеличение суммы чека клиента. Изучите результаты теста и сделайте вывод , увеличилась сумма чека или нет. В качестве решения - ноутбук, в котором построено распределение параметра в группах и проверены нужные критерии."
   ]
  },
  {
   "cell_type": "code",
   "execution_count": 9,
   "metadata": {},
   "outputs": [
    {
     "data": {
      "text/html": [
       "<div>\n",
       "<style scoped>\n",
       "    .dataframe tbody tr th:only-of-type {\n",
       "        vertical-align: middle;\n",
       "    }\n",
       "\n",
       "    .dataframe tbody tr th {\n",
       "        vertical-align: top;\n",
       "    }\n",
       "\n",
       "    .dataframe thead th {\n",
       "        text-align: right;\n",
       "    }\n",
       "</style>\n",
       "<table border=\"1\" class=\"dataframe\">\n",
       "  <thead>\n",
       "    <tr style=\"text-align: right;\">\n",
       "      <th></th>\n",
       "      <th>group</th>\n",
       "      <th>client_id</th>\n",
       "      <th>avg_sum</th>\n",
       "    </tr>\n",
       "  </thead>\n",
       "  <tbody>\n",
       "    <tr>\n",
       "      <th>0</th>\n",
       "      <td>test</td>\n",
       "      <td>1</td>\n",
       "      <td>156.686451</td>\n",
       "    </tr>\n",
       "    <tr>\n",
       "      <th>1</th>\n",
       "      <td>test</td>\n",
       "      <td>2</td>\n",
       "      <td>342.625859</td>\n",
       "    </tr>\n",
       "    <tr>\n",
       "      <th>2</th>\n",
       "      <td>test</td>\n",
       "      <td>3</td>\n",
       "      <td>79.712120</td>\n",
       "    </tr>\n",
       "    <tr>\n",
       "      <th>3</th>\n",
       "      <td>test</td>\n",
       "      <td>4</td>\n",
       "      <td>493.110807</td>\n",
       "    </tr>\n",
       "    <tr>\n",
       "      <th>4</th>\n",
       "      <td>test</td>\n",
       "      <td>5</td>\n",
       "      <td>124.135016</td>\n",
       "    </tr>\n",
       "  </tbody>\n",
       "</table>\n",
       "</div>"
      ],
      "text/plain": [
       "  group  client_id     avg_sum\n",
       "0  test          1  156.686451\n",
       "1  test          2  342.625859\n",
       "2  test          3   79.712120\n",
       "3  test          4  493.110807\n",
       "4  test          5  124.135016"
      ]
     },
     "execution_count": 9,
     "metadata": {},
     "output_type": "execute_result"
    }
   ],
   "source": [
    "test_2 = pd.read_csv('test_2.csv')\n",
    "test_2.head()"
   ]
  },
  {
   "cell_type": "code",
   "execution_count": 10,
   "metadata": {},
   "outputs": [
    {
     "data": {
      "image/png": "[encoded data removed]",
      "text/plain": [
       "<Figure size 432x288 with 1 Axes>"
      ]
     },
     "metadata": {
      "needs_background": "light"
     },
     "output_type": "display_data"
    },
    {
     "name": "stdout",
     "output_type": "stream",
     "text": [
      "control len: 294 \n",
      "test len: 306\n"
     ]
    }
   ],
   "source": [
    "# Посмотрим на распределение суммы чека в двух группах - распределение скошено влево, данные распределены не нормально\n",
    "test2 = test_2[test_2['group'] == 'test']['avg_sum']\n",
    "control2 = test_2[test_2['group'] == 'control']['avg_sum']\n",
    "\n",
    "plt.hist(test2, bins=30, density=True, color='blue', alpha=0.7)\n",
    "plt.hist(control2, bins=30, density=True, color='red', alpha=0.7)\n",
    "plt.legend([\"test\", \"control\"])\n",
    "plt.show()\n",
    "\n",
    "# Посчитаем на размеры выборок\n",
    "print('control len:', len(control2), '\\ntest len:', len(test2))"
   ]
  },
  {
   "cell_type": "code",
   "execution_count": 11,
   "metadata": {},
   "outputs": [
    {
     "name": "stdout",
     "output_type": "stream",
     "text": [
      "control mean: 144.81033169450896 \n",
      "test mean: 189.85564910740237\n"
     ]
    }
   ],
   "source": [
    "# Посчитаем средние\n",
    "print('control mean:', control2.mean(), '\\ntest mean:', test2.mean())"
   ]
  },
  {
   "cell_type": "code",
   "execution_count": 12,
   "metadata": {},
   "outputs": [
    {
     "data": {
      "text/plain": [
       "RanksumsResult(statistic=-2.808265278778519, pvalue=0.004980917764009625)"
      ]
     },
     "execution_count": 12,
     "metadata": {},
     "output_type": "execute_result"
    }
   ],
   "source": [
    "# Проверим гипотезу о равенстве средних с помощью u-критерия\n",
    "st.ranksums(control2, test2)"
   ]
  },
  {
   "cell_type": "markdown",
   "metadata": {},
   "source": [
    "**Вывод:** отвергаем нулевую гипотезу на уровне значимости 5% (p-value < 0.05). Сумма чека в тестовой группе значимо увеличилась."
   ]
  },
  {
   "cell_type": "markdown",
   "metadata": {},
   "source": [
    "## Тест 3\n",
    "В файле test_3 лежит результат теста рассылки email, целевая метрика - конверсия в переход на сайт с этого email. Изучите результаты теста и сделайте вывод , увеличилась конверсия или нет. В качестве решения - ноутбук, в котором построено распределение параметра в группах и проверены нужные критерии."
   ]
  },
  {
   "cell_type": "code",
   "execution_count": 13,
   "metadata": {
    "collapsed": true
   },
   "outputs": [],
   "source": [
    "from scipy.stats import uniform, binom, norm"
   ]
  },
  {
   "cell_type": "code",
   "execution_count": 14,
   "metadata": {},
   "outputs": [
    {
     "data": {
      "text/html": [
       "<div>\n",
       "<style scoped>\n",
       "    .dataframe tbody tr th:only-of-type {\n",
       "        vertical-align: middle;\n",
       "    }\n",
       "\n",
       "    .dataframe tbody tr th {\n",
       "        vertical-align: top;\n",
       "    }\n",
       "\n",
       "    .dataframe thead th {\n",
       "        text-align: right;\n",
       "    }\n",
       "</style>\n",
       "<table border=\"1\" class=\"dataframe\">\n",
       "  <thead>\n",
       "    <tr style=\"text-align: right;\">\n",
       "      <th></th>\n",
       "      <th>group</th>\n",
       "      <th>client_id</th>\n",
       "      <th>click_flg</th>\n",
       "    </tr>\n",
       "  </thead>\n",
       "  <tbody>\n",
       "    <tr>\n",
       "      <th>0</th>\n",
       "      <td>test</td>\n",
       "      <td>1</td>\n",
       "      <td>1</td>\n",
       "    </tr>\n",
       "    <tr>\n",
       "      <th>1</th>\n",
       "      <td>test</td>\n",
       "      <td>2</td>\n",
       "      <td>0</td>\n",
       "    </tr>\n",
       "    <tr>\n",
       "      <th>2</th>\n",
       "      <td>test</td>\n",
       "      <td>3</td>\n",
       "      <td>0</td>\n",
       "    </tr>\n",
       "    <tr>\n",
       "      <th>3</th>\n",
       "      <td>test</td>\n",
       "      <td>4</td>\n",
       "      <td>1</td>\n",
       "    </tr>\n",
       "    <tr>\n",
       "      <th>4</th>\n",
       "      <td>test</td>\n",
       "      <td>5</td>\n",
       "      <td>1</td>\n",
       "    </tr>\n",
       "  </tbody>\n",
       "</table>\n",
       "</div>"
      ],
      "text/plain": [
       "  group  client_id  click_flg\n",
       "0  test          1          1\n",
       "1  test          2          0\n",
       "2  test          3          0\n",
       "3  test          4          1\n",
       "4  test          5          1"
      ]
     },
     "execution_count": 14,
     "metadata": {},
     "output_type": "execute_result"
    }
   ],
   "source": [
    "test_3 = pd.read_csv('test_3.csv')\n",
    "test_3.head()"
   ]
  },
  {
   "cell_type": "code",
   "execution_count": 15,
   "metadata": {},
   "outputs": [
    {
     "data": {
      "image/png": "[encoded data removed]",
      "text/plain": [
       "<Figure size 432x288 with 1 Axes>"
      ]
     },
     "metadata": {
      "needs_background": "light"
     },
     "output_type": "display_data"
    },
    {
     "name": "stdout",
     "output_type": "stream",
     "text": [
      "control len: 10010 \n",
      "test len: 1010\n"
     ]
    }
   ],
   "source": [
    "# Посмотрим на распределение кликов в двух группах\n",
    "test3 = test_3[test_3['group'] == 'test']['click_flg']\n",
    "control3 = test_3[test_3['group'] == 'control']['click_flg']\n",
    "\n",
    "plt.hist(test3, bins=30, density=True, color='blue', alpha=0.7)\n",
    "plt.hist(control3, bins=30, density=True, color='red', alpha=0.7)\n",
    "plt.show()\n",
    "\n",
    "# Посчитаем на размеры выборок\n",
    "print('control len:', len(control3), '\\ntest len:', len(test))"
   ]
  },
  {
   "cell_type": "code",
   "execution_count": 16,
   "metadata": {},
   "outputs": [
    {
     "name": "stdout",
     "output_type": "stream",
     "text": [
      "control CR: 0.31238761238761237 \n",
      "test CR: 0.2955203033024045\n"
     ]
    }
   ],
   "source": [
    "# Посчитаем и выведем конверсии в двух группах\n",
    "test_click = test_3[test_3['group'] == 'test']['click_flg'].sum()\n",
    "control_click = test_3[test_3['group'] == 'control']['click_flg'].sum()\n",
    "\n",
    "test_users = test_3[test_3['group'] == 'test']['click_flg'].count()\n",
    "control_users = test_3[test_3['group'] == 'control']['click_flg'].count()\n",
    "\n",
    "test_cr =  test_click / test_users\n",
    "control_cr = control_click / control_users\n",
    "print('control CR:', control_cr, '\\ntest CR:', test_cr)"
   ]
  },
  {
   "cell_type": "code",
   "execution_count": 17,
   "metadata": {},
   "outputs": [
    {
     "data": {
      "text/plain": [
       "0.009454050012441595"
      ]
     },
     "execution_count": 17,
     "metadata": {},
     "output_type": "execute_result"
    }
   ],
   "source": [
    "# Проверим гипотезу о равенстве долей по формуле z-критерия для долей\n",
    "P = (test_cr*test_users + control_cr*control_users)/(test_users + control_users)\n",
    "Z = (test_cr - control_cr)/np.sqrt(P*(1 - P)*(1/test_users + 1/control_users))\n",
    "p_value = (1 - norm.cdf(abs(Z)))*2\n",
    "p_value"
   ]
  },
  {
   "cell_type": "code",
   "execution_count": 18,
   "metadata": {},
   "outputs": [
    {
     "name": "stdout",
     "output_type": "stream",
     "text": [
      "test statistic = -2.595183244634136\n",
      "p-value = 0.009454050012441642\n"
     ]
    }
   ],
   "source": [
    "# Проверим гипотезу о равенстве долей с помощью prop.test\n",
    "stat, pval = proportions_ztest([test_click, control_click], \n",
    "                                [test_users, control_users]) \n",
    "print(\"test statistic =\", stat)\n",
    "print(\"p-value =\", pval)"
   ]
  },
  {
   "cell_type": "markdown",
   "metadata": {},
   "source": [
    "**Вывод:** отвергаем нулевую гипотезу на уровне значимости 5% (p-value < 0.05). В тестовой группе CR меньше и по результатам эксперимента значимо упала."
   ]
  },
  {
   "cell_type": "markdown",
   "metadata": {},
   "source": [
    "# Задание 4\n",
    "Покажите зависимость Мощности от Размера выборки двухвыборочного z-теста при размере эффекта (effect_size) 0.1, 0.5, 1 и при уровне значимости 0,05. Требуется предоставить ноутбук, который выводит 3 графика"
   ]
  },
  {
   "cell_type": "code",
   "execution_count": 19,
   "metadata": {
    "collapsed": true
   },
   "outputs": [],
   "source": [
    "from tqdm.auto import tqdm\n",
    "import seaborn as sns\n",
    "\n",
    "plt.style.use('ggplot')"
   ]
  },
  {
   "cell_type": "code",
   "execution_count": 20,
   "metadata": {
    "collapsed": true
   },
   "outputs": [],
   "source": [
    "alpha = 0.05\n",
    "effect_size_list = [0.1, 0.5, 1]"
   ]
  },
  {
   "cell_type": "code",
   "execution_count": 21,
   "metadata": {
    "collapsed": true
   },
   "outputs": [],
   "source": [
    "def relation(alpha, effect_size):\n",
    "    powers = []\n",
    "    sample_sizes = []\n",
    "    \n",
    "    for i in tqdm(range(50,2000)):\n",
    "        powers.append(smp.zt_ind_solve_power(effect_size=effect_size, nobs1=i, alpha=alpha, alternative='two-sided'))\n",
    "        sample_sizes.append(i)\n",
    "    return powers, sample_sizes"
   ]
  },
  {
   "cell_type": "code",
   "execution_count": 22,
   "metadata": {},
   "outputs": [
    {
     "data": {
      "application/vnd.jupyter.widget-view+json": {
       "model_id": "4bfb749441f74a9fb962952cf6777984",
       "version_major": 2,
       "version_minor": 0
      },
      "text/plain": [
       "HBox(children=(HTML(value=''), FloatProgress(value=0.0, max=1950.0), HTML(value='')))"
      ]
     },
     "metadata": {},
     "output_type": "display_data"
    },
    {
     "name": "stdout",
     "output_type": "stream",
     "text": [
      "\n",
      "effect_size =  0.1\n"
     ]
    },
    {
     "data": {
      "image/png": "[encoded data removed]",
      "text/plain": [
       "<Figure size 432x288 with 1 Axes>"
      ]
     },
     "metadata": {},
     "output_type": "display_data"
    }
   ],
   "source": [
    "powers_01, sample_sizes_01 = relation(alpha, effect_size_list[0])\n",
    "\n",
    "viz = sns.lineplot(x=sample_sizes_01, y=powers_01)\n",
    "viz.set_xlabel(\"Sample Size\")\n",
    "viz.set_ylabel(\"Power\");\n",
    "\n",
    "print('effect_size = ', effect_size_list[0])"
   ]
  },
  {
   "cell_type": "code",
   "execution_count": 23,
   "metadata": {},
   "outputs": [
    {
     "data": {
      "application/vnd.jupyter.widget-view+json": {
       "model_id": "632f963929984537a10002990daab0a5",
       "version_major": 2,
       "version_minor": 0
      },
      "text/plain": [
       "HBox(children=(HTML(value=''), FloatProgress(value=0.0, max=1950.0), HTML(value='')))"
      ]
     },
     "metadata": {},
     "output_type": "display_data"
    },
    {
     "name": "stdout",
     "output_type": "stream",
     "text": [
      "\n",
      "effect_size =  0.5\n"
     ]
    },
    {
     "data": {
      "image/png": "[encoded data removed]",
      "text/plain": [
       "<Figure size 432x288 with 1 Axes>"
      ]
     },
     "metadata": {},
     "output_type": "display_data"
    }
   ],
   "source": [
    "powers_05, sample_sizes_05 = relation(alpha, effect_size_list[1])\n",
    "\n",
    "viz = sns.lineplot(x=sample_sizes_05, y=powers_05)\n",
    "viz.set_xlabel(\"Sample Size\")\n",
    "viz.set_ylabel(\"Power\");\n",
    "\n",
    "print('effect_size = ', effect_size_list[1])"
   ]
  },
  {
   "cell_type": "code",
   "execution_count": 24,
   "metadata": {},
   "outputs": [
    {
     "data": {
      "application/vnd.jupyter.widget-view+json": {
       "model_id": "d4d944cc3d044bf79e6cca40288f288e",
       "version_major": 2,
       "version_minor": 0
      },
      "text/plain": [
       "HBox(children=(HTML(value=''), FloatProgress(value=0.0, max=1950.0), HTML(value='')))"
      ]
     },
     "metadata": {},
     "output_type": "display_data"
    },
    {
     "name": "stdout",
     "output_type": "stream",
     "text": [
      "\n",
      "effect_size =  1\n"
     ]
    },
    {
     "data": {
      "image/png": "[encoded data removed]",
      "text/plain": [
       "<Figure size 432x288 with 1 Axes>"
      ]
     },
     "metadata": {},
     "output_type": "display_data"
    }
   ],
   "source": [
    "powers_1, sample_sizes_1 = relation(alpha, effect_size_list[2])\n",
    "\n",
    "viz = sns.lineplot(x=sample_sizes_1, y=powers_1)\n",
    "viz.set_xlabel(\"Sample Size\")\n",
    "viz.set_ylabel(\"Power\");\n",
    "\n",
    "print('effect_size = ', effect_size_list[2])"
   ]
  }
 ],
 "metadata": {
  "kernelspec": {
   "display_name": "Python 3",
   "language": "python",
   "name": "python3"
  },
  "language_info": {
   "codemirror_mode": {
    "name": "ipython",
    "version": 3
   },
   "file_extension": ".py",
   "mimetype": "text/x-python",
   "name": "python",
   "nbconvert_exporter": "python",
   "pygments_lexer": "ipython3",
   "version": "3.6.10"
  }
 },
 "nbformat": 4,
 "nbformat_minor": 4
}
