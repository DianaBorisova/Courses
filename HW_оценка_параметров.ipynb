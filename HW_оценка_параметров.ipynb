{
 "cells": [
  {
   "cell_type": "code",
   "execution_count": 1,
   "metadata": {
    "colab": {
     "base_uri": "https://localhost:8080/"
    },
    "id": "0KsWUfbbUwEr",
    "outputId": "42cfdae6-8482-4dd9-c281-1e267cbd7488"
   },
   "outputs": [
    {
     "name": "stdout",
     "output_type": "stream",
     "text": [
      "Populating the interactive namespace from numpy and matplotlib\n"
     ]
    }
   ],
   "source": [
    "import numpy as np\n",
    "import pandas as pd\n",
    "import scipy\n",
    "\n",
    "from statsmodels.stats.weightstats import _zconfint_generic, _tconfint_generic\n",
    "from statsmodels.stats.proportion import proportion_confint\n",
    "\n",
    "%pylab inline"
   ]
  },
  {
   "cell_type": "code",
   "execution_count": 2,
   "metadata": {
    "colab": {
     "base_uri": "https://localhost:8080/"
    },
    "collapsed": true,
    "id": "C39c-PJgFgu7",
    "outputId": "b1303882-9464-4a00-813b-e10fd941d2d2"
   },
   "outputs": [],
   "source": [
    "df = pd.read_csv('data.csv', sep=',')"
   ]
  },
  {
   "cell_type": "markdown",
   "metadata": {
    "id": "a038-uCX5Puc"
   },
   "source": [
    "* id - идентификатор заявки на получение кредита на товар/услугу\n",
    "* required_amt - запрошенная сумма кредита\n",
    "* installment_flg - флаг промо продукта\n",
    "* monthly_income_amt - ежемесячный доход заявителя\n",
    "* age - возраст заявителя\n",
    "* has_high_education_flg - наличие высшего образования\n",
    "* approved_flg - одобрил ли банк заявку"
   ]
  },
  {
   "cell_type": "code",
   "execution_count": 3,
   "metadata": {
    "colab": {
     "base_uri": "https://localhost:8080/"
    },
    "id": "LKks68mcVQ8v",
    "outputId": "0a1f915f-c579-47a1-ac7f-dca340190f97"
   },
   "outputs": [
    {
     "data": {
      "text/html": [
       "<div>\n",
       "<style scoped>\n",
       "    .dataframe tbody tr th:only-of-type {\n",
       "        vertical-align: middle;\n",
       "    }\n",
       "\n",
       "    .dataframe tbody tr th {\n",
       "        vertical-align: top;\n",
       "    }\n",
       "\n",
       "    .dataframe thead th {\n",
       "        text-align: right;\n",
       "    }\n",
       "</style>\n",
       "<table border=\"1\" class=\"dataframe\">\n",
       "  <thead>\n",
       "    <tr style=\"text-align: right;\">\n",
       "      <th></th>\n",
       "      <th>id</th>\n",
       "      <th>required_amt</th>\n",
       "      <th>installment_flg</th>\n",
       "      <th>monthly_income_amt</th>\n",
       "      <th>age</th>\n",
       "      <th>has_high_education_flg</th>\n",
       "      <th>approved_flg</th>\n",
       "    </tr>\n",
       "  </thead>\n",
       "  <tbody>\n",
       "    <tr>\n",
       "      <th>7109</th>\n",
       "      <td>7110</td>\n",
       "      <td>47735.0</td>\n",
       "      <td>1</td>\n",
       "      <td>25000</td>\n",
       "      <td>20</td>\n",
       "      <td>0</td>\n",
       "      <td>0</td>\n",
       "    </tr>\n",
       "    <tr>\n",
       "      <th>148</th>\n",
       "      <td>149</td>\n",
       "      <td>70294.0</td>\n",
       "      <td>1</td>\n",
       "      <td>30000</td>\n",
       "      <td>24</td>\n",
       "      <td>1</td>\n",
       "      <td>0</td>\n",
       "    </tr>\n",
       "    <tr>\n",
       "      <th>2120</th>\n",
       "      <td>2121</td>\n",
       "      <td>19260.0</td>\n",
       "      <td>0</td>\n",
       "      <td>30000</td>\n",
       "      <td>44</td>\n",
       "      <td>0</td>\n",
       "      <td>1</td>\n",
       "    </tr>\n",
       "    <tr>\n",
       "      <th>807</th>\n",
       "      <td>808</td>\n",
       "      <td>55822.0</td>\n",
       "      <td>1</td>\n",
       "      <td>25000</td>\n",
       "      <td>25</td>\n",
       "      <td>0</td>\n",
       "      <td>0</td>\n",
       "    </tr>\n",
       "    <tr>\n",
       "      <th>181</th>\n",
       "      <td>182</td>\n",
       "      <td>20270.0</td>\n",
       "      <td>0</td>\n",
       "      <td>35000</td>\n",
       "      <td>51</td>\n",
       "      <td>1</td>\n",
       "      <td>0</td>\n",
       "    </tr>\n",
       "  </tbody>\n",
       "</table>\n",
       "</div>"
      ],
      "text/plain": [
       "        id  required_amt  installment_flg  monthly_income_amt  age  \\\n",
       "7109  7110       47735.0                1               25000   20   \n",
       "148    149       70294.0                1               30000   24   \n",
       "2120  2121       19260.0                0               30000   44   \n",
       "807    808       55822.0                1               25000   25   \n",
       "181    182       20270.0                0               35000   51   \n",
       "\n",
       "      has_high_education_flg  approved_flg  \n",
       "7109                       0             0  \n",
       "148                        1             0  \n",
       "2120                       0             1  \n",
       "807                        0             0  \n",
       "181                        1             0  "
      ]
     },
     "execution_count": 3,
     "metadata": {},
     "output_type": "execute_result"
    }
   ],
   "source": [
    "df.sample(5)"
   ]
  },
  {
   "cell_type": "markdown",
   "metadata": {
    "id": "UU1b8PAJDK6h"
   },
   "source": [
    "# Домашнее задание"
   ]
  },
  {
   "cell_type": "markdown",
   "metadata": {
    "id": "pEsLu-W49jHA"
   },
   "source": [
    "### На основе того же набора данных требуется\n",
    " \n",
    "1. Построить предсказательные интервалы для ежемесячного дохода и запрошенной суммы (в предположении логнормальности)\n",
    "2. Определить для каждого признака, разделяет ли он риски. Т.е. надо строить доверительные интервалы для **approved_flg** по каждому признаку. *Подсказка:* для бинарных признаков можно строить интервалы на разность долей, для вещественных признаков - используйте разбивки на бакеты (группы равного размера) и сравнивайте полученные интервалы между этими группами. Попробуйте визуализировать результаты (для вещественных признаков).\n",
    "3. Введите бинарный признак (какая сумма больше - запрошенная или ежемесячная зарплата) - оцените точечно и интервально шансы (odds) одобрения в зависимости от этого признака $$\\text{odds: } \\frac{p}{1-p}$$ Постройте также интервал для отношения шансов на этих выборках. *Подсказка:* используйте бутстреп.\n",
    " "
   ]
  },
  {
   "cell_type": "markdown",
   "metadata": {},
   "source": [
    "### Задание 1\n",
    "#### Предсказательный интервал для ежемесячного дохода"
   ]
  },
  {
   "cell_type": "code",
   "execution_count": 4,
   "metadata": {},
   "outputs": [
    {
     "data": {
      "image/png": "[encoded data removed]",
      "text/plain": [
       "<Figure size 864x360 with 2 Axes>"
      ]
     },
     "metadata": {
      "needs_background": "light"
     },
     "output_type": "display_data"
    }
   ],
   "source": [
    "# Приведем данные к нормальному виду с помощью логарифмирования\n",
    "monthly_income_amt = np.log(df['monthly_income_amt'])\n",
    "\n",
    "# Посмотрим на гистограммы до и после логарифмирования\n",
    "pylab.figure(figsize(12, 5))\n",
    "pylab.subplot(1,2,1)\n",
    "pylab.hist(df['monthly_income_amt'],\n",
    "           color = 'b',\n",
    "           alpha = 0.8,\n",
    "           label = 'До логарифмирования')\n",
    "pylab.xticks(rotation=45, ha='right')\n",
    "pylab.legend()\n",
    "\n",
    "pylab.subplot(1,2,2)\n",
    "pylab.hist(monthly_income_amt,\n",
    "           color = 'g',\n",
    "           alpha = 0.8,\n",
    "           label = 'После логарифмирования')\n",
    "pylab.legend()\n",
    "\n",
    "pylab.show()"
   ]
  },
  {
   "cell_type": "code",
   "execution_count": 5,
   "metadata": {},
   "outputs": [
    {
     "name": "stdout",
     "output_type": "stream",
     "text": [
      "Monthly income amt 95% predictive interval: [13006.90 - 119867.14]\n"
     ]
    }
   ],
   "source": [
    "monthly_income_amt_pred_int = _tconfint_generic(monthly_income_amt.mean(),\n",
    "                                                monthly_income_amt.std(ddof=1),\n",
    "                                                len(monthly_income_amt) - 1,\n",
    "                                                0.05,\n",
    "                                                'two-sided')\n",
    "\n",
    "# Экспонируем полученные концы интервала, чтобы вернуться к привычным значениям amt\n",
    "min_interval = np.exp(monthly_income_amt_pred_int[0])\n",
    "max_interval = np.exp(monthly_income_amt_pred_int[1])\n",
    "\n",
    "print(f'Monthly income amt 95% predictive interval: [{min_interval:.2f} - {max_interval:.2f}]')"
   ]
  },
  {
   "cell_type": "markdown",
   "metadata": {},
   "source": [
    "#### Предсказательный интервал для запрошенной суммы"
   ]
  },
  {
   "cell_type": "code",
   "execution_count": 6,
   "metadata": {},
   "outputs": [
    {
     "data": {
      "image/png": "[encoded data removed]",
      "text/plain": [
       "<Figure size 864x360 with 2 Axes>"
      ]
     },
     "metadata": {
      "needs_background": "light"
     },
     "output_type": "display_data"
    }
   ],
   "source": [
    "required_amt = np.log(df['required_amt'].dropna())\n",
    "\n",
    "pylab.figure(figsize(12, 5))\n",
    "pylab.subplot(1,2,1)\n",
    "pylab.hist(df['required_amt'].dropna(),\n",
    "           bins=100,\n",
    "           color = 'b',\n",
    "           alpha = 0.8,\n",
    "           label = 'До логарифмирования')\n",
    "pylab.legend()\n",
    "\n",
    "pylab.subplot(1,2,2)\n",
    "pylab.hist(required_amt,\n",
    "           bins=100,\n",
    "           color = 'g',\n",
    "           alpha = 0.8,\n",
    "           label = 'После логарифмирования')\n",
    "pylab.legend()\n",
    "\n",
    "pylab.show()"
   ]
  },
  {
   "cell_type": "code",
   "execution_count": 7,
   "metadata": {},
   "outputs": [
    {
     "name": "stdout",
     "output_type": "stream",
     "text": [
      "Required amt 95% predictive interval: [6676.43 - 124737.25]\n"
     ]
    }
   ],
   "source": [
    "required_amt_pred_int = _tconfint_generic(required_amt.mean(),\n",
    "                                          required_amt.std(ddof=1),\n",
    "                                          len(required_amt) - 1,\n",
    "                                          0.05,\n",
    "                                          'two-sided')\n",
    "\n",
    "min_interval = np.exp(required_amt_pred_int[0])\n",
    "max_interval = np.exp(required_amt_pred_int[1])\n",
    "\n",
    "print(f'Required amt 95% predictive interval: [{min_interval:.2f} - {max_interval:.2f}]')"
   ]
  },
  {
   "cell_type": "markdown",
   "metadata": {},
   "source": [
    "### Задание 2"
   ]
  },
  {
   "cell_type": "markdown",
   "metadata": {},
   "source": [
    "#### Доверительный интервал для разности долей одобренных заявок у пользователей с промо продуктом и без (не связные выборки)"
   ]
  },
  {
   "cell_type": "markdown",
   "metadata": {
    "id": "RBuRHf_zd-xF"
   },
   "source": [
    "$$\\text{Доверительный интервал для }p_1 - p_2\\colon \\;\\; \\hat{p}_1 - \\hat{p}_2 \\pm z_{1-\\frac{\\alpha}{2}}\\sqrt{\\frac{\\hat{p}_1(1 - \\hat{p}_1)}{n_1} + \\frac{\\hat{p}_2(1 - \\hat{p}_2)}{n_2}}$$"
   ]
  },
  {
   "cell_type": "code",
   "execution_count": 8,
   "metadata": {
    "collapsed": true,
    "id": "hNQj_f3raP2m"
   },
   "outputs": [],
   "source": [
    "def proportions_confint_diff_ind(sample1, sample2, alpha = 0.01):\n",
    "    '''Считает доверительный интервал для разности долей в независимых выборках'''\n",
    "    z = scipy.stats.norm.ppf(1 - alpha / 2.)\n",
    "    p1 = float(sum(sample1)) / len(sample1)\n",
    "    p2 = float(sum(sample2)) / len(sample2)\n",
    "    sigma = np.sqrt(p1 * (1 - p1)/ len(sample1) + p2 * (1 - p2)/ len(sample2))\n",
    "    left_boundary = (p1 - p2) - z * sigma\n",
    "    right_boundary = (p1 - p2) + z * sigma\n",
    "    return (left_boundary, right_boundary)"
   ]
  },
  {
   "cell_type": "code",
   "execution_count": 9,
   "metadata": {},
   "outputs": [
    {
     "data": {
      "text/plain": [
       "(-0.02488224598127247, 0.021904336839108467)"
      ]
     },
     "execution_count": 9,
     "metadata": {},
     "output_type": "execute_result"
    }
   ],
   "source": [
    "proportions_confint_diff_ind(df[df.installment_flg == 1].approved_flg,\n",
    "                             df[df.installment_flg == 0].approved_flg)"
   ]
  },
  {
   "cell_type": "markdown",
   "metadata": {},
   "source": [
    "0 входит в интервал, значит наличие промо продукта не влияет на одобрение заявки"
   ]
  },
  {
   "cell_type": "markdown",
   "metadata": {},
   "source": [
    "#### Доверительный интервал для разности долей одобренных заявок у пользователей с высшим образованием и без"
   ]
  },
  {
   "cell_type": "code",
   "execution_count": 10,
   "metadata": {},
   "outputs": [
    {
     "data": {
      "text/plain": [
       "(0.07806537137828923, 0.1267927508516632)"
      ]
     },
     "execution_count": 10,
     "metadata": {},
     "output_type": "execute_result"
    }
   ],
   "source": [
    "proportions_confint_diff_ind(df[df.has_high_education_flg == 1].approved_flg,\n",
    "                             df[df.has_high_education_flg == 0].approved_flg)"
   ]
  },
  {
   "cell_type": "markdown",
   "metadata": {},
   "source": [
    "Границы интервала лежат по правую сторону от 0, значит наличие высшего образования влияет на одобрение заявки\n"
   ]
  },
  {
   "cell_type": "markdown",
   "metadata": {},
   "source": [
    "#### Доверительный интервал Уилсона"
   ]
  },
  {
   "cell_type": "markdown",
   "metadata": {
    "id": "Y2e8zlLBYBU2"
   },
   "source": [
    "$$\\frac1{ 1 + \\frac{z^2}{n} } \\left( \\hat{p} + \\frac{z^2}{2n} \\pm z \\sqrt{ \\frac{ \\hat{p}\\left(1-\\hat{p}\\right)}{n} + \\frac{\n",
    "z^2}{4n^2} } \\right), \\;\\; z \\equiv z_{1-\\frac{\\alpha}{2}}$$ "
   ]
  },
  {
   "cell_type": "code",
   "execution_count": 11,
   "metadata": {
    "collapsed": true
   },
   "outputs": [],
   "source": [
    "def wilson_conf_int(count, length):\n",
    "    wilson_education_conf_int = proportion_confint(count,\n",
    "                                               length,\n",
    "                                               alpha = 0.01,\n",
    "                                               method = 'wilson')\n",
    "    print(f'99% confidence interval: [{wilson_education_conf_int[0]:.3f} - {wilson_education_conf_int[1]:.3f}]')"
   ]
  },
  {
   "cell_type": "markdown",
   "metadata": {},
   "source": [
    "#### Интервал Уилсона для доли одобренных заявок у пользователей с определенной запрошенной суммой кредита"
   ]
  },
  {
   "cell_type": "code",
   "execution_count": 12,
   "metadata": {
    "collapsed": true
   },
   "outputs": [],
   "source": [
    "# Разобьем данные на 4 бакета в зависимости от значения квартиля\n",
    "required_amt_approved1 = df[df.required_amt < df.required_amt.quantile(0.25)][['required_amt', 'approved_flg']]\n",
    "required_amt_approved2 = df[(df.required_amt >= df.required_amt.quantile(0.25)) & (df.required_amt < df.required_amt.quantile(0.5))][['required_amt', 'approved_flg']]\n",
    "required_amt_approved3 = df[(df.required_amt >= df.required_amt.quantile(0.5)) & (df.required_amt < df.required_amt.quantile(0.75))][['required_amt', 'approved_flg']]\n",
    "required_amt_approved4 = df[df.required_amt >= df.required_amt.quantile(0.75)][['required_amt', 'approved_flg']]"
   ]
  },
  {
   "cell_type": "code",
   "execution_count": 13,
   "metadata": {},
   "outputs": [
    {
     "name": "stdout",
     "output_type": "stream",
     "text": [
      "99% confidence interval: [0.322 - 0.371]\n",
      "99% confidence interval: [0.265 - 0.311]\n",
      "99% confidence interval: [0.233 - 0.278]\n",
      "99% confidence interval: [0.139 - 0.176]\n"
     ]
    }
   ],
   "source": [
    "wilson_conf_int(required_amt_approved1.approved_flg.sum(), len(required_amt_approved1.approved_flg))\n",
    "wilson_conf_int(required_amt_approved2.approved_flg.sum(), len(required_amt_approved2.approved_flg))\n",
    "wilson_conf_int(required_amt_approved3.approved_flg.sum(), len(required_amt_approved3.approved_flg))\n",
    "wilson_conf_int(required_amt_approved4.approved_flg.sum(), len(required_amt_approved4.approved_flg))\n"
   ]
  },
  {
   "cell_type": "markdown",
   "metadata": {},
   "source": [
    "Интервалы не пересекаются, значит запрошенная сумма кредита влияет на одобрение"
   ]
  },
  {
   "cell_type": "markdown",
   "metadata": {},
   "source": [
    "#### Интервал Уилсона для доли одобренных заявок у пользователей с определенным ежемесячным доходом заявителя"
   ]
  },
  {
   "cell_type": "code",
   "execution_count": 14,
   "metadata": {
    "collapsed": true
   },
   "outputs": [],
   "source": [
    "monthly_income_amt_approved1 = df[df.monthly_income_amt < df.monthly_income_amt.quantile(0.25)][['monthly_income_amt', 'approved_flg']]\n",
    "monthly_income_amt_approved2 = df[(df.monthly_income_amt >= df.monthly_income_amt.quantile(0.25)) \\\n",
    "        & (df.monthly_income_amt < df.monthly_income_amt.quantile(0.5))][['monthly_income_amt', 'approved_flg']]\n",
    "monthly_income_amt_approved3 = df[(df.monthly_income_amt >= df.monthly_income_amt.quantile(0.5)) \\\n",
    "        & (df.monthly_income_amt < df.monthly_income_amt.quantile(0.75))][['monthly_income_amt', 'approved_flg']]\n",
    "monthly_income_amt_approved4 = df[df.monthly_income_amt >= df.monthly_income_amt.quantile(0.75)][['monthly_income_amt', 'approved_flg']]"
   ]
  },
  {
   "cell_type": "code",
   "execution_count": 15,
   "metadata": {},
   "outputs": [
    {
     "name": "stdout",
     "output_type": "stream",
     "text": [
      "99% confidence interval: [0.251 - 0.298]\n",
      "99% confidence interval: [0.231 - 0.275]\n",
      "99% confidence interval: [0.238 - 0.283]\n",
      "99% confidence interval: [0.237 - 0.282]\n"
     ]
    }
   ],
   "source": [
    "wilson_conf_int(monthly_income_amt_approved1.approved_flg.sum(), len(monthly_income_amt_approved1.approved_flg))\n",
    "wilson_conf_int(monthly_income_amt_approved2.approved_flg.sum(), len(monthly_income_amt_approved2.approved_flg))\n",
    "wilson_conf_int(monthly_income_amt_approved3.approved_flg.sum(), len(monthly_income_amt_approved3.approved_flg))\n",
    "wilson_conf_int(monthly_income_amt_approved4.approved_flg.sum(), len(monthly_income_amt_approved4.approved_flg))"
   ]
  },
  {
   "cell_type": "markdown",
   "metadata": {},
   "source": [
    "Интервалы пересекаются, значит ежемесячный доход не влияет на одобрение заявки"
   ]
  },
  {
   "cell_type": "markdown",
   "metadata": {},
   "source": [
    "#### Интервал Уилсона для доли одобренных заявок у пользователей с определенным возрастом"
   ]
  },
  {
   "cell_type": "code",
   "execution_count": 16,
   "metadata": {
    "collapsed": true
   },
   "outputs": [],
   "source": [
    "age_approved1 = df[df.age < df.age.quantile(0.25)][['age', 'approved_flg']]\n",
    "age_approved2 = df[(df.age >= df.age.quantile(0.25)) & (df.age < df.age.quantile(0.5))][['age', 'approved_flg']]\n",
    "age_approved3 = df[(df.age >= df.age.quantile(0.5)) & (df.age < df.age.quantile(0.75))][['age', 'approved_flg']]\n",
    "age_approved4 = df[df.age >= df.age.quantile(0.75)][['age', 'approved_flg']]"
   ]
  },
  {
   "cell_type": "code",
   "execution_count": 17,
   "metadata": {},
   "outputs": [
    {
     "name": "stdout",
     "output_type": "stream",
     "text": [
      "99% confidence interval: [0.091 - 0.123]\n",
      "99% confidence interval: [0.200 - 0.243]\n",
      "99% confidence interval: [0.289 - 0.336]\n",
      "99% confidence interval: [0.369 - 0.418]\n"
     ]
    }
   ],
   "source": [
    "wilson_conf_int(age_approved1.approved_flg.sum(), len(age_approved1.approved_flg))\n",
    "wilson_conf_int(age_approved2.approved_flg.sum(), len(age_approved2.approved_flg))\n",
    "wilson_conf_int(age_approved3.approved_flg.sum(), len(age_approved3.approved_flg))\n",
    "wilson_conf_int(age_approved4.approved_flg.sum(), len(age_approved4.approved_flg))"
   ]
  },
  {
   "cell_type": "markdown",
   "metadata": {},
   "source": [
    "Интервалы не пересекаются, значит возраст заявителя влияет на одобрение заявки"
   ]
  },
  {
   "cell_type": "markdown",
   "metadata": {},
   "source": [
    "### Задание 3"
   ]
  },
  {
   "cell_type": "markdown",
   "metadata": {},
   "source": [
    "Введите бинарный признак (какая сумма больше - запрошенная или ежемесячная зарплата) - оцените точечно и интервально шансы (odds) одобрения в зависимости от этого признака $$\\text{odds: } \\frac{p}{1-p}$$ Постройте также интервал для отношения шансов на этих выборках. *Подсказка:* используйте бутстреп.\n",
    " "
   ]
  },
  {
   "cell_type": "code",
   "execution_count": 18,
   "metadata": {},
   "outputs": [
    {
     "data": {
      "text/html": [
       "<div>\n",
       "<style scoped>\n",
       "    .dataframe tbody tr th:only-of-type {\n",
       "        vertical-align: middle;\n",
       "    }\n",
       "\n",
       "    .dataframe tbody tr th {\n",
       "        vertical-align: top;\n",
       "    }\n",
       "\n",
       "    .dataframe thead th {\n",
       "        text-align: right;\n",
       "    }\n",
       "</style>\n",
       "<table border=\"1\" class=\"dataframe\">\n",
       "  <thead>\n",
       "    <tr style=\"text-align: right;\">\n",
       "      <th></th>\n",
       "      <th>id</th>\n",
       "      <th>required_amt</th>\n",
       "      <th>installment_flg</th>\n",
       "      <th>monthly_income_amt</th>\n",
       "      <th>age</th>\n",
       "      <th>has_high_education_flg</th>\n",
       "      <th>approved_flg</th>\n",
       "      <th>required_lower_monthly_flg</th>\n",
       "    </tr>\n",
       "  </thead>\n",
       "  <tbody>\n",
       "    <tr>\n",
       "      <th>0</th>\n",
       "      <td>1</td>\n",
       "      <td>23906.0</td>\n",
       "      <td>0</td>\n",
       "      <td>80000</td>\n",
       "      <td>37</td>\n",
       "      <td>0</td>\n",
       "      <td>0</td>\n",
       "      <td>1.0</td>\n",
       "    </tr>\n",
       "    <tr>\n",
       "      <th>1</th>\n",
       "      <td>2</td>\n",
       "      <td>13111.0</td>\n",
       "      <td>1</td>\n",
       "      <td>43000</td>\n",
       "      <td>22</td>\n",
       "      <td>0</td>\n",
       "      <td>0</td>\n",
       "      <td>1.0</td>\n",
       "    </tr>\n",
       "    <tr>\n",
       "      <th>2</th>\n",
       "      <td>3</td>\n",
       "      <td>43266.0</td>\n",
       "      <td>1</td>\n",
       "      <td>20000</td>\n",
       "      <td>34</td>\n",
       "      <td>0</td>\n",
       "      <td>0</td>\n",
       "      <td>0.0</td>\n",
       "    </tr>\n",
       "    <tr>\n",
       "      <th>3</th>\n",
       "      <td>4</td>\n",
       "      <td>68782.0</td>\n",
       "      <td>1</td>\n",
       "      <td>35000</td>\n",
       "      <td>24</td>\n",
       "      <td>0</td>\n",
       "      <td>0</td>\n",
       "      <td>0.0</td>\n",
       "    </tr>\n",
       "    <tr>\n",
       "      <th>4</th>\n",
       "      <td>5</td>\n",
       "      <td>19550.0</td>\n",
       "      <td>1</td>\n",
       "      <td>25000</td>\n",
       "      <td>42</td>\n",
       "      <td>1</td>\n",
       "      <td>0</td>\n",
       "      <td>1.0</td>\n",
       "    </tr>\n",
       "  </tbody>\n",
       "</table>\n",
       "</div>"
      ],
      "text/plain": [
       "   id  required_amt  installment_flg  monthly_income_amt  age  \\\n",
       "0   1       23906.0                0               80000   37   \n",
       "1   2       13111.0                1               43000   22   \n",
       "2   3       43266.0                1               20000   34   \n",
       "3   4       68782.0                1               35000   24   \n",
       "4   5       19550.0                1               25000   42   \n",
       "\n",
       "   has_high_education_flg  approved_flg  required_lower_monthly_flg  \n",
       "0                       0             0                         1.0  \n",
       "1                       0             0                         1.0  \n",
       "2                       0             0                         0.0  \n",
       "3                       0             0                         0.0  \n",
       "4                       1             0                         1.0  "
      ]
     },
     "execution_count": 18,
     "metadata": {},
     "output_type": "execute_result"
    }
   ],
   "source": [
    "# Введем бинарный признак (какая сумма больше - запрошенная или ежемесячная зарплата) \n",
    "df.loc[df['required_amt'] < df['monthly_income_amt'], 'required_lower_monthly_flg'] = 1\n",
    "df.loc[df['required_amt'] >= df['monthly_income_amt'], 'required_lower_monthly_flg'] = 0\n",
    "df.head()"
   ]
  },
  {
   "cell_type": "markdown",
   "metadata": {},
   "source": [
    "#### Точечно оценим шансы одобрения в зависимости от того, какая сумма больше"
   ]
  },
  {
   "cell_type": "code",
   "execution_count": 19,
   "metadata": {},
   "outputs": [
    {
     "name": "stdout",
     "output_type": "stream",
     "text": [
      "Шансы одобрения, когда месячный доход больше запрошенной суммы: 0.43467829880043624\n",
      "Шансы одобрения, когда месячный доход меньше запрошенной суммы: 0.21968616262482166\n"
     ]
    }
   ],
   "source": [
    "req_lower_monthly_len = len(df[df.required_lower_monthly_flg == 1])\n",
    "req_more_monthly_len = len(df[df.required_lower_monthly_flg == 0])\n",
    "\n",
    "required_lower_monthly_share = df[df.required_lower_monthly_flg == 1].approved_flg.sum() \\\n",
    "                                                    / req_lower_monthly_len\n",
    "\n",
    "required_more_monthly_share = df[df.required_lower_monthly_flg == 0].approved_flg.sum() \\\n",
    "                                                    / req_more_monthly_len\n",
    "\n",
    "\n",
    "required_lower_monthly_odds = required_lower_monthly_share / (1 - required_lower_monthly_share)\n",
    "required_more_monthly_odds = required_more_monthly_share / (1 - required_more_monthly_share)\n",
    "\n",
    "print('Шансы одобрения, когда месячный доход больше запрошенной суммы:', required_lower_monthly_odds)\n",
    "print('Шансы одобрения, когда месячный доход меньше запрошенной суммы:', required_more_monthly_odds)"
   ]
  },
  {
   "cell_type": "markdown",
   "metadata": {},
   "source": [
    "#### Построим на этих выборках с помощью бутстрепа интервалы для шансов и их отношения"
   ]
  },
  {
   "cell_type": "code",
   "execution_count": 20,
   "metadata": {
    "collapsed": true,
    "id": "B-ZHFT3d4csq"
   },
   "outputs": [],
   "source": [
    "def get_bootstrap_samples(data, n_samples):\n",
    "    '''Генерирует заданное кол-во (n_samples) выборок, равных по размеру исходной выборке'''\n",
    "    indices = np.random.randint(0, len(data), (n_samples, len(data)))\n",
    "    samples = data[indices]\n",
    "    return samples"
   ]
  },
  {
   "cell_type": "code",
   "execution_count": 21,
   "metadata": {
    "collapsed": true
   },
   "outputs": [],
   "source": [
    "def get_stat_intervals(stat, alpha):\n",
    "    '''Для заданной выборки возвращает двусторонний доверительный интервал [aplpha/2, 1 - alpha/2]'''\n",
    "    boundaries = np.percentile(stat, [100 * alpha / 2., 100 * (1 - alpha / 2.)])\n",
    "    return boundaries"
   ]
  },
  {
   "cell_type": "code",
   "execution_count": 22,
   "metadata": {},
   "outputs": [
    {
     "name": "stdout",
     "output_type": "stream",
     "text": [
      "99% доверителный интервал шансов одобрения, когда месячный доход больше запрошенной суммы: [0.40826074 0.46406172]\n",
      "99% доверителный интервал шансов одобрения, когда месячный доход меньше запрошенной суммы: [0.19622246 0.24545019]\n",
      "99% доверителный интервал отношения шансов одобрения: [1.74344393 2.2488697 ]\n"
     ]
    }
   ],
   "source": [
    "np.random.seed(0)\n",
    "\n",
    "req_lower_monthly_atm = list(map(np.sum, get_bootstrap_samples(df[df.required_lower_monthly_flg == 1]\\\n",
    "                                                               .approved_flg.values, 1000)))\n",
    "\n",
    "req_more_monthly_atm = list(map(np.sum, get_bootstrap_samples(df[df.required_lower_monthly_flg == 0]\\\n",
    "                                                              .approved_flg.values, 1000)))\n",
    "\n",
    "req_lower_monthly_odds = [(x/req_lower_monthly_len) / (1 - x/req_lower_monthly_len) for x in req_lower_monthly_atm]\n",
    "req_more_monthly_odds = [(x/req_more_monthly_len) / (1 - x/req_more_monthly_len) for x in req_more_monthly_atm]\n",
    "ratio_odds = [req_lower_monthly_odds[i] / req_more_monthly_odds[i] for i in range(len(req_lower_monthly_odds))]\n",
    "\n",
    "print('99% доверителный интервал шансов одобрения, когда месячный доход больше запрошенной суммы:', \\\n",
    "      get_stat_intervals(req_lower_monthly_odds, 0.01))\n",
    "print('99% доверителный интервал шансов одобрения, когда месячный доход меньше запрошенной суммы:', \\\n",
    "      get_stat_intervals(req_more_monthly_odds, 0.01))\n",
    "print('99% доверителный интервал отношения шансов одобрения:', \\\n",
    "      get_stat_intervals(ratio_odds, 0.01))"
   ]
  },
  {
   "cell_type": "markdown",
   "metadata": {},
   "source": [
    "Интервалы не пересекаются, разница лежит по правую сторону от 0. Значит разница между запрошенной суммой и месячным доходом влияет на одобрение заявки"
   ]
  }
 ],
 "metadata": {
  "colab": {
   "collapsed_sections": [
    "k5o6OFmh1foG",
    "iOuKTvh_bPde",
    "0iHohIa0bPdf",
    "X_dnv1Y0bPdg",
    "8tj6wj8chRRE",
    "uVGG8XBUhb5F",
    "c_sHS4KpMpeF",
    "lj9fW4RjYBUt",
    "IdLmOIvJYBUx",
    "BpVUG50-YBU0",
    "NN92F6EAY2yA",
    "ZzlaACvngj4J",
    "zcgUdsht03SX",
    "UU1b8PAJDK6h",
    "pEsLu-W49jHA"
   ],
   "name": "Seminar_with_credentials.ipynb",
   "provenance": []
  },
  "kernelspec": {
   "display_name": "Python 3",
   "language": "python",
   "name": "python3"
  },
  "language_info": {
   "codemirror_mode": {
    "name": "ipython",
    "version": 3
   },
   "file_extension": ".py",
   "mimetype": "text/x-python",
   "name": "python",
   "nbconvert_exporter": "python",
   "pygments_lexer": "ipython3",
   "version": "3.6.10"
  }
 },
 "nbformat": 4,
 "nbformat_minor": 1
}
