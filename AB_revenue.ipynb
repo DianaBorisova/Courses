{
 "cells": [
  {
   "cell_type": "markdown",
   "metadata": {},
   "source": [
    "#### Задание:\n",
    "- На сайте запущен А/В тест с целью увеличить доход. \n",
    "- В приложенном excel файле ты найдешь сырые данные по результатам эксперимента (user_id), тип выборки (variant_name) и доход, принесенный пользователем (revenue).\n",
    "- Проанализируй результаты эксперимента и напиши свои рекомендации менеджеру."
   ]
  },
  {
   "cell_type": "code",
   "execution_count": 1,
   "metadata": {},
   "outputs": [],
   "source": [
    "import scipy.stats as st\n",
    "import matplotlib.pyplot as plt\n",
    "import pandas as pd\n",
    "import numpy as np\n",
    "import seaborn as sns\n",
    "from matplotlib.pyplot import figure\n",
    "\n",
    "%matplotlib inline"
   ]
  },
  {
   "cell_type": "markdown",
   "metadata": {},
   "source": [
    "Прочитаем данные и посмотрим на основную информацию:"
   ]
  },
  {
   "cell_type": "code",
   "execution_count": 2,
   "metadata": {},
   "outputs": [
    {
     "data": {
      "text/html": [
       "<div>\n",
       "<style scoped>\n",
       "    .dataframe tbody tr th:only-of-type {\n",
       "        vertical-align: middle;\n",
       "    }\n",
       "\n",
       "    .dataframe tbody tr th {\n",
       "        vertical-align: top;\n",
       "    }\n",
       "\n",
       "    .dataframe thead th {\n",
       "        text-align: right;\n",
       "    }\n",
       "</style>\n",
       "<table border=\"1\" class=\"dataframe\">\n",
       "  <thead>\n",
       "    <tr style=\"text-align: right;\">\n",
       "      <th></th>\n",
       "      <th>USER_ID</th>\n",
       "      <th>VARIANT_NAME</th>\n",
       "      <th>REVENUE</th>\n",
       "    </tr>\n",
       "  </thead>\n",
       "  <tbody>\n",
       "    <tr>\n",
       "      <th>0</th>\n",
       "      <td>737</td>\n",
       "      <td>variant</td>\n",
       "      <td>0.0</td>\n",
       "    </tr>\n",
       "    <tr>\n",
       "      <th>1</th>\n",
       "      <td>2423</td>\n",
       "      <td>control</td>\n",
       "      <td>0.0</td>\n",
       "    </tr>\n",
       "    <tr>\n",
       "      <th>2</th>\n",
       "      <td>9411</td>\n",
       "      <td>control</td>\n",
       "      <td>0.0</td>\n",
       "    </tr>\n",
       "    <tr>\n",
       "      <th>3</th>\n",
       "      <td>7311</td>\n",
       "      <td>control</td>\n",
       "      <td>0.0</td>\n",
       "    </tr>\n",
       "    <tr>\n",
       "      <th>4</th>\n",
       "      <td>6174</td>\n",
       "      <td>variant</td>\n",
       "      <td>0.0</td>\n",
       "    </tr>\n",
       "  </tbody>\n",
       "</table>\n",
       "</div>"
      ],
      "text/plain": [
       "   USER_ID VARIANT_NAME  REVENUE\n",
       "0      737      variant      0.0\n",
       "1     2423      control      0.0\n",
       "2     9411      control      0.0\n",
       "3     7311      control      0.0\n",
       "4     6174      variant      0.0"
      ]
     },
     "execution_count": 2,
     "metadata": {},
     "output_type": "execute_result"
    }
   ],
   "source": [
    "df = pd.read_excel(\"AB_Test_Results.xlsx\")\n",
    "df.head()"
   ]
  },
  {
   "cell_type": "code",
   "execution_count": 3,
   "metadata": {},
   "outputs": [
    {
     "name": "stdout",
     "output_type": "stream",
     "text": [
      "<class 'pandas.core.frame.DataFrame'>\n",
      "RangeIndex: 10000 entries, 0 to 9999\n",
      "Data columns (total 3 columns):\n",
      " #   Column        Non-Null Count  Dtype  \n",
      "---  ------        --------------  -----  \n",
      " 0   USER_ID       10000 non-null  int64  \n",
      " 1   VARIANT_NAME  10000 non-null  object \n",
      " 2   REVENUE       10000 non-null  float64\n",
      "dtypes: float64(1), int64(1), object(1)\n",
      "memory usage: 234.5+ KB\n"
     ]
    }
   ],
   "source": [
    "df.info()"
   ]
  },
  {
   "cell_type": "code",
   "execution_count": 4,
   "metadata": {},
   "outputs": [
    {
     "data": {
      "text/plain": [
       "variant    5016\n",
       "control    4984\n",
       "Name: VARIANT_NAME, dtype: int64"
      ]
     },
     "execution_count": 4,
     "metadata": {},
     "output_type": "execute_result"
    }
   ],
   "source": [
    "df.VARIANT_NAME.value_counts()"
   ]
  },
  {
   "cell_type": "code",
   "execution_count": 5,
   "metadata": {},
   "outputs": [
    {
     "data": {
      "text/plain": [
       "VARIANT_NAME\n",
       "control    3931\n",
       "variant    3934\n",
       "Name: USER_ID, dtype: int64"
      ]
     },
     "execution_count": 5,
     "metadata": {},
     "output_type": "execute_result"
    }
   ],
   "source": [
    "df.groupby('VARIANT_NAME').USER_ID.nunique()"
   ]
  },
  {
   "cell_type": "code",
   "execution_count": 6,
   "metadata": {},
   "outputs": [],
   "source": [
    "# Сгруппируем данные по пользователю и посчитаем суммарный доход (для независимости наблюдений)\n",
    "df = df.groupby(['VARIANT_NAME', 'USER_ID']).REVENUE.sum().reset_index()"
   ]
  },
  {
   "cell_type": "markdown",
   "metadata": {},
   "source": [
    "Проверим качество сплитования. Посмотрим, попадает ли один пользователь в разные группы:"
   ]
  },
  {
   "cell_type": "code",
   "execution_count": 7,
   "metadata": {
    "scrolled": true
   },
   "outputs": [],
   "source": [
    "groups_cnt = df.groupby('USER_ID').VARIANT_NAME.nunique()\n",
    "bad_users = list(groups_cnt[groups_cnt > 1].reset_index().USER_ID)"
   ]
  },
  {
   "cell_type": "code",
   "execution_count": 8,
   "metadata": {},
   "outputs": [
    {
     "name": "stdout",
     "output_type": "stream",
     "text": [
      "Всего пользователей: 6324\n",
      "Кол-во пользователей, попавших в тест и контроль: 1541\n"
     ]
    }
   ],
   "source": [
    "print('Всего пользователей:', df.USER_ID.nunique())\n",
    "print('Кол-во пользователей, попавших в тест и контроль:', len(bad_users))"
   ]
  },
  {
   "cell_type": "code",
   "execution_count": 9,
   "metadata": {},
   "outputs": [
    {
     "data": {
      "text/html": [
       "<div>\n",
       "<style scoped>\n",
       "    .dataframe tbody tr th:only-of-type {\n",
       "        vertical-align: middle;\n",
       "    }\n",
       "\n",
       "    .dataframe tbody tr th {\n",
       "        vertical-align: top;\n",
       "    }\n",
       "\n",
       "    .dataframe thead th {\n",
       "        text-align: right;\n",
       "    }\n",
       "</style>\n",
       "<table border=\"1\" class=\"dataframe\">\n",
       "  <thead>\n",
       "    <tr style=\"text-align: right;\">\n",
       "      <th></th>\n",
       "      <th>VARIANT_NAME</th>\n",
       "      <th>USER_ID</th>\n",
       "      <th>REVENUE</th>\n",
       "    </tr>\n",
       "  </thead>\n",
       "  <tbody>\n",
       "    <tr>\n",
       "      <th>224</th>\n",
       "      <td>control</td>\n",
       "      <td>618</td>\n",
       "      <td>2.19</td>\n",
       "    </tr>\n",
       "    <tr>\n",
       "      <th>4179</th>\n",
       "      <td>variant</td>\n",
       "      <td>618</td>\n",
       "      <td>0.00</td>\n",
       "    </tr>\n",
       "  </tbody>\n",
       "</table>\n",
       "</div>"
      ],
      "text/plain": [
       "     VARIANT_NAME  USER_ID  REVENUE\n",
       "224       control      618     2.19\n",
       "4179      variant      618     0.00"
      ]
     },
     "execution_count": 9,
     "metadata": {},
     "output_type": "execute_result"
    }
   ],
   "source": [
    "# Пример плохого пользователя\n",
    "df[df.USER_ID == 618]"
   ]
  },
  {
   "cell_type": "markdown",
   "metadata": {},
   "source": [
    "24% пользователей попали и в тестовую, и в контрольную группу одновременно. Достаточно большая доля может говорить о плохом качестве сплитования. Предположим, что мы проверили сплитовалку и с ней все ок. Тогда перед сравнением доходов в группах, нужно очистить данные от плохих пользователей:"
   ]
  },
  {
   "cell_type": "code",
   "execution_count": 10,
   "metadata": {},
   "outputs": [],
   "source": [
    "df = df[~df.USER_ID.isin(bad_users)]"
   ]
  },
  {
   "cell_type": "markdown",
   "metadata": {},
   "source": [
    "Посмотрим на распределение дохода по группам:"
   ]
  },
  {
   "cell_type": "code",
   "execution_count": 11,
   "metadata": {},
   "outputs": [
    {
     "data": {
      "image/png": "[encoded data removed]",
      "text/plain": [
       "<Figure size 432x288 with 1 Axes>"
      ]
     },
     "metadata": {
      "needs_background": "light"
     },
     "output_type": "display_data"
    }
   ],
   "source": [
    "# Построим боксплот\n",
    "sns.boxplot(x=\"VARIANT_NAME\", y=\"REVENUE\", data=df);"
   ]
  },
  {
   "cell_type": "markdown",
   "metadata": {},
   "source": [
    "В контрольной группе заметен сильный выброс, уберем его из данных. Разобьем данные по группам на тестовую и контрольную выборки:"
   ]
  },
  {
   "cell_type": "code",
   "execution_count": 12,
   "metadata": {},
   "outputs": [],
   "source": [
    "df = df[df.REVENUE < df.REVENUE.max()]\n",
    "\n",
    "control = df[df.VARIANT_NAME == 'control'].REVENUE\n",
    "test = df[df.VARIANT_NAME == 'variant'].REVENUE"
   ]
  },
  {
   "cell_type": "code",
   "execution_count": 13,
   "metadata": {},
   "outputs": [
    {
     "data": {
      "image/png": "[encoded data removed]",
      "text/plain": [
       "<Figure size 432x288 with 1 Axes>"
      ]
     },
     "metadata": {
      "needs_background": "light"
     },
     "output_type": "display_data"
    }
   ],
   "source": [
    "# Построим боксплот после чистки\n",
    "sns.boxplot(x=\"VARIANT_NAME\", y=\"REVENUE\", data=df);"
   ]
  },
  {
   "cell_type": "code",
   "execution_count": 14,
   "metadata": {},
   "outputs": [
    {
     "data": {
      "image/png": "[encoded data removed]",
      "text/plain": [
       "<Figure size 640x480 with 1 Axes>"
      ]
     },
     "metadata": {
      "needs_background": "light"
     },
     "output_type": "display_data"
    },
    {
     "name": "stdout",
     "output_type": "stream",
     "text": [
      "control len: 2389 \n",
      "test len: 2393\n"
     ]
    }
   ],
   "source": [
    "# Построим гистограммы\n",
    "figure(figsize=(8, 6), dpi=80);\n",
    "plt.hist(test, bins=30, color='blue', alpha=0.7)\n",
    "plt.hist(control, bins=30, color='red', alpha=0.7)\n",
    "plt.legend([\"test\", \"control\"])\n",
    "plt.show()\n",
    "\n",
    "# Посчитаем размеры выборок\n",
    "print('control len:', len(control), '\\ntest len:', len(test))"
   ]
  },
  {
   "cell_type": "markdown",
   "metadata": {},
   "source": [
    "Данные распределены не нормально. Значит для сравнения групп можно воспользоваться непараметрическим критерием Манна-Уитни или бутстрапом."
   ]
  },
  {
   "cell_type": "code",
   "execution_count": 15,
   "metadata": {},
   "outputs": [
    {
     "data": {
      "text/html": [
       "<div>\n",
       "<style scoped>\n",
       "    .dataframe tbody tr th:only-of-type {\n",
       "        vertical-align: middle;\n",
       "    }\n",
       "\n",
       "    .dataframe tbody tr th {\n",
       "        vertical-align: top;\n",
       "    }\n",
       "\n",
       "    .dataframe thead th {\n",
       "        text-align: right;\n",
       "    }\n",
       "</style>\n",
       "<table border=\"1\" class=\"dataframe\">\n",
       "  <thead>\n",
       "    <tr style=\"text-align: right;\">\n",
       "      <th></th>\n",
       "      <th>count</th>\n",
       "      <th>mean</th>\n",
       "      <th>std</th>\n",
       "      <th>min</th>\n",
       "      <th>25%</th>\n",
       "      <th>50%</th>\n",
       "      <th>75%</th>\n",
       "      <th>max</th>\n",
       "    </tr>\n",
       "    <tr>\n",
       "      <th>VARIANT_NAME</th>\n",
       "      <th></th>\n",
       "      <th></th>\n",
       "      <th></th>\n",
       "      <th></th>\n",
       "      <th></th>\n",
       "      <th></th>\n",
       "      <th></th>\n",
       "      <th></th>\n",
       "    </tr>\n",
       "  </thead>\n",
       "  <tbody>\n",
       "    <tr>\n",
       "      <th>control</th>\n",
       "      <td>2389.0</td>\n",
       "      <td>0.114923</td>\n",
       "      <td>1.162495</td>\n",
       "      <td>0.0</td>\n",
       "      <td>0.0</td>\n",
       "      <td>0.0</td>\n",
       "      <td>0.0</td>\n",
       "      <td>29.32</td>\n",
       "    </tr>\n",
       "    <tr>\n",
       "      <th>variant</th>\n",
       "      <td>2393.0</td>\n",
       "      <td>0.074935</td>\n",
       "      <td>0.858207</td>\n",
       "      <td>0.0</td>\n",
       "      <td>0.0</td>\n",
       "      <td>0.0</td>\n",
       "      <td>0.0</td>\n",
       "      <td>23.04</td>\n",
       "    </tr>\n",
       "  </tbody>\n",
       "</table>\n",
       "</div>"
      ],
      "text/plain": [
       "               count      mean       std  min  25%  50%  75%    max\n",
       "VARIANT_NAME                                                       \n",
       "control       2389.0  0.114923  1.162495  0.0  0.0  0.0  0.0  29.32\n",
       "variant       2393.0  0.074935  0.858207  0.0  0.0  0.0  0.0  23.04"
      ]
     },
     "execution_count": 15,
     "metadata": {},
     "output_type": "execute_result"
    }
   ],
   "source": [
    "# Изучим описательные статистики двух групп\n",
    "df.groupby('VARIANT_NAME').REVENUE.describe()"
   ]
  },
  {
   "cell_type": "markdown",
   "metadata": {},
   "source": [
    "Проверим есть ли значимые различия между группами с помощью критерия Манна-Уитни. Гипотезы:\n",
    "- H0: распределение дохода в тестовой группе соответствует распределению дохода в контрольной группе\n",
    "- H1: значения дохода в тестовой выборке будут больше значений дохода в контрольной группе\n",
    "- alpha = 0.05 (базовое общепринятое значение)"
   ]
  },
  {
   "cell_type": "code",
   "execution_count": 16,
   "metadata": {},
   "outputs": [
    {
     "name": "stdout",
     "output_type": "stream",
     "text": [
      "p-value: 0.8760199648806348\n"
     ]
    }
   ],
   "source": [
    "print('p-value:', st.mannwhitneyu(test.values, control.values, alternative='greater').pvalue)"
   ]
  },
  {
   "cell_type": "markdown",
   "metadata": {},
   "source": [
    "**Результат:** по полученному значению p-value мы не можем отвергнуть H0 на выбранном уровне значимости."
   ]
  },
  {
   "cell_type": "markdown",
   "metadata": {},
   "source": [
    "Проверим есть ли значимые различия между группами с помощью Бутстрепа. Гипотезы:\n",
    "- H0: средние значения дохода в двух группах равны\n",
    "- H1: средние значения дохода в тестовой группе больше\n",
    "- alpha = 0.05 (базовое общепринятое значение)"
   ]
  },
  {
   "cell_type": "code",
   "execution_count": 17,
   "metadata": {},
   "outputs": [],
   "source": [
    "def get_bootstrap_samples(data, n_samples):\n",
    "    '''Генерирует заданное кол-во (n_samples) выборок, равных по размеру исходной выборке'''\n",
    "    indices = np.random.randint(0, len(data), (n_samples, len(data)))\n",
    "    samples = data[indices]\n",
    "    return samples"
   ]
  },
  {
   "cell_type": "code",
   "execution_count": 18,
   "metadata": {},
   "outputs": [],
   "source": [
    "def get_stat_intervals(stat, alpha):\n",
    "    '''Для заданной выборки возвращает односторонний доверительный интервал [0, 1 - alpha]'''\n",
    "    boundaries = np.percentile(stat, [0, 100* (1 - alpha)])\n",
    "    return boundaries"
   ]
  },
  {
   "cell_type": "code",
   "execution_count": 19,
   "metadata": {},
   "outputs": [
    {
     "name": "stdout",
     "output_type": "stream",
     "text": [
      "Average diff: -0.04 \n",
      "99% confidence interval for the difference between revenue: [-0.1300081   0.00810773]\n"
     ]
    }
   ],
   "source": [
    "np.random.seed(0)\n",
    "\n",
    "test_bootstrap = list(map(np.sum, get_bootstrap_samples(test.values, 1000)))\n",
    "control_bootstrap = list(map(np.sum, get_bootstrap_samples(control.values, 1000)))\n",
    "\n",
    "test_bootstrap_mean = [x/len(test) for x in test_bootstrap]\n",
    "control_bootstrap_mean = [x/len(control) for x in control_bootstrap]\n",
    "\n",
    "diff = list(map(lambda x: x[0] - x[1], zip(test_bootstrap_mean, control_bootstrap_mean)))\n",
    "\n",
    "print(f'Average diff: {sum(diff) / len(diff) :.2f} ')\n",
    "print('99% confidence interval for the difference between revenue:',  get_stat_intervals(diff, 0.05))"
   ]
  },
  {
   "cell_type": "code",
   "execution_count": 20,
   "metadata": {},
   "outputs": [
    {
     "data": {
      "image/png": "[encoded data removed]",
      "text/plain": [
       "<Figure size 432x288 with 1 Axes>"
      ]
     },
     "metadata": {
      "needs_background": "light"
     },
     "output_type": "display_data"
    }
   ],
   "source": [
    "#Распределение разницы между средними\n",
    "plt.hist(diff, bins=30, color='blue', alpha=0.7);"
   ]
  },
  {
   "cell_type": "markdown",
   "metadata": {},
   "source": [
    "**Результат:** 0 попадает в доверительный интервал разницы между средними значениями дохода, а значит значимой разницы в средних доходах между группами не наблюдается."
   ]
  },
  {
   "cell_type": "markdown",
   "metadata": {},
   "source": [
    "### Рекомендации менеджеру:\n",
    "- наблюдается проблема в разбиении пользователей на тестовую и контрольную группу (24% попали в обе группы сразу). Нужно разобраться, что могло пойти не так. В случае массовой проблемы в экспериментах чинить сплитовалку, в случае неправильного дизайна конкретного эксперимента - подумать о перезапуске.\n",
    "- если не обнаружили никаких проблем и решили подводить результаты теста на очищенных данных, стоит проверить группы в АА тесте (до запуска эксперимента между группами не должно быть различий).\n",
    "- по результатам проверки мы не обнаружили значимой разницы в доходах между группами. Внесенные изменения никак не повлияли на доходы и пользователи не стали больше платить.\n",
    "- возможно, стоит посмотреть на дополнительные метрики, чтобы понять как повлияло изменение на пользователей (ради новых знаний, которые могут в дальнейшем повлиять на новые гипотезы).\n",
    "- отмечу, что рекомеднации давать сложнее, когда нет информации об изменении в продукте (макеты от дизайна)."
   ]
  }
 ],
 "metadata": {
  "kernelspec": {
   "display_name": "Python 3",
   "language": "python",
   "name": "python3"
  },
  "language_info": {
   "codemirror_mode": {
    "name": "ipython",
    "version": 3
   },
   "file_extension": ".py",
   "mimetype": "text/x-python",
   "name": "python",
   "nbconvert_exporter": "python",
   "pygments_lexer": "ipython3",
   "version": "3.8.5"
  }
 },
 "nbformat": 4,
 "nbformat_minor": 2
}
